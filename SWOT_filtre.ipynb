{
  "cells": [
    {
      "cell_type": "markdown",
      "metadata": {
        "id": "RWApTUfSkN7J"
      },
      "source": [
        "# Filtre des données SWOT - Tutoriel / SWOT Data Filter - Tutorial\n",
        "\n",
        "Ce projet a pour objectif de rendre les données de la mission SWOT plus accessibles en développant un script en Python qui filtre et convertit les données brutes de la NASA de format netCDF vers des fichiers TIFF, lesquels sont plus légers et conviviaux. Le filtrage des données permet de conserver uniquement les données de bonne qualité pour les analyses. Nous avons utilisé le produit suivant de la mission SWOT pour ce tutoriel: 'SWOT Level 2 Water Mask Raster Image Data Product, Version C', disponible sur le site Earth Data de la NASA (https://search.earthdata.nasa.gov/search?q=SWOT_). Il est à noter qu'il nécessaire de se créer un compte Earth Data afin de pouvoir télécharger les images. Vous pouvez utiliser ce script dans Google Colab (à partir de votre compte Gmail).\n",
        "\n",
        "This project aims to make the data from the SWOT mission more accessible by developing a Python script that filters and converts raw NASA data from the netCDF format into TIFF files, which are lighter and more user-friendly. Data filtering ensures that only good quality data is retained for analysis. We used the following product from the SWOT mission for this tutorial: 'SWOT Level 2 Water Mask Raster Image Data Product, Version C', available on NASA's Earth Data site (https://search.earthdata.nasa.gov/search?q=SWOT_). Note that it's necessary to create an Earth Data account to download the images. You can use this script in Google Colab (using your Gmail account)"
      ]
    },
    {
      "cell_type": "code",
      "execution_count": 1,
      "metadata": {
        "id": "9RvzGLrkrzCd"
      },
      "outputs": [],
      "source": [
        "# Installation des packages et importation des librairies nécessaires.\n",
        "# Install packages and import required libraries\n",
        "%%capture\n",
        "!pip install xarray\n",
        "!pip install rioxarray\n",
        "!apt install gdal-bin\n",
        "import xarray\n",
        "import numpy as np\n",
        "import rioxarray\n",
        "\n",
        "# Importer le fichier .nc dans le projet et convertir ce dernier en geo tiff pour 'wse_qual' (drapeau de qualité pour la donnée d'élévation de la surface de l'eau) et 'wse' (élévation de la surface de l'eau) avec gdal_translate\n",
        "# Import the .nc file into the project and convert it to GeoTIFF for 'wse_qual' (water surface elevation dquality flag) and 'wse' (water surface elevation) using gdal_translate.\n",
        "!gdal_translate -of GTiff \"NETCDF:****:wse_qual\" wse_qual.tif #remplacer **** par le chemin d'accès de l'image / replace **** by the path to the image\n",
        "!gdal_translate -of GTiff \"NETCDF:****:wse\" wse.tif\n",
        "\n",
        "##exemple/example:\n",
        "#!gdal_translate -of GTiff \"NETCDF:/content/SWOT_L2_HR_Raster_100m_UTM22J_N_x_x_x_013_533_051F_20240415T150120_20240415T150141_PIC0_01.nc:wse_qual\" output_wse_qual.tif #remplacer par le chemin d'accès de l'image / replace by the path to the image\n",
        "#!gdal_translate -of GTiff \"NETCDF:/content/SWOT_L2_HR_Raster_100m_UTM22J_N_x_x_x_013_533_051F_20240415T150120_20240415T150141_PIC0_01.nc:wse\" wse.tif #remplacer par le chemin d'accès de l'image / replace by the path to the image\n"
      ]
    },
    {
      "cell_type": "code",
      "execution_count": 2,
      "metadata": {
        "colab": {
          "base_uri": "https://localhost:8080/"
        },
        "id": "RDpaDqM3ssGy",
        "outputId": "f565c45f-d89f-409f-dc72-6879f2ebd867"
      },
      "outputs": [
        {
          "name": "stdout",
          "output_type": "stream",
          "text": [
            "unique flag values:  [3 1 2 0]\n",
            "minimum value: 0\n"
          ]
        }
      ],
      "source": [
        "# Ouverture des fichiers GeoTIFF avec rioxarray\n",
        "# Open GeoTIFF files with rioxarray\n",
        "wse_qual = rioxarray.open_rasterio(\"/content/wse_qual.tif\") #water surface elevation quality flag (wse_qual)\n",
        "wse = rioxarray.open_rasterio(\"/content/wse.tif\") #water surface elevation (wse)\n",
        "\n",
        "# Conversion de wse_qual en DataFrame\n",
        "# Convert wse_qual to DataFrame\n",
        "df = wse_qual.to_dataframe()\n",
        "\n",
        "# Extraction des valeurs uniques pour les flags de qualité (wes_qual)\n",
        "# Extract unique values for quality flags (wse_qual)\n",
        "uniqueFlagValues = df['wse_qual'].unique()\n",
        "print('unique flag values: ', uniqueFlagValues)\n",
        "\n",
        "# Afficher la valeur minimale parmi les valeurs uniques des flags de qualité\n",
        "# Find the minimum value among unique flag values\n",
        "min_value = min(uniqueFlagValues)\n",
        "print(f\"minimum value: {min_value}\")"
      ]
    },
    {
      "cell_type": "markdown",
      "metadata": {
        "id": "8rWutKEHEf_N"
      },
      "source": [
        "explication des 'flags' pour les données 'wse_qual'/ Explanation of flags for wse_qual data:\n",
        "*   0 = good\n",
        "*   1 = suspect - may have large errors\n",
        "*   2 = degraded - likely to have large errors<\n",
        "*   3 = bad - may be nonsensical and should be ignored"
      ]
    },
    {
      "cell_type": "code",
      "execution_count": 3,
      "metadata": {
        "id": "97L0sV7dKUV1"
      },
      "outputs": [],
      "source": [
        "# Créer un masque en fonction de la valeur de wse_qual souhaitée\n",
        "# Create a mask based on the desired wse_qual value\n",
        "mask = wse_qual <= 1 # <= 1,2,3,4 ou == 0\n",
        "\n",
        "# Appliquer le masque à 'wse' pour filtrer les valeurs\n",
        "# Apply the mask to 'wse' to filter values\n",
        "wse_filtered = wse.where(mask)\n",
        "\n",
        "# Enregistrer les données wse filtrées dans un nouveau fichier GeoTIFF\n",
        "# Save the filtered wse data to a new GeoTIFF file\n",
        "wse_filtered.rio.to_raster(\"output_wse_filtered.tif\")\n",
        "\n",
        "# Importer le fichier .tif dans QGIS en lui attribuant la bonne projection UTM en fonction de la région à l'étude.\n",
        "# Import the .tif file into QGIS and assign the correct UTM projection based on the study area."
      ]
    }
  ],
  "metadata": {
    "colab": {
      "provenance": []
    },
    "kernelspec": {
      "display_name": "Python 3",
      "name": "python3"
    },
    "language_info": {
      "name": "python"
    }
  },
  "nbformat": 4,
  "nbformat_minor": 0
}
